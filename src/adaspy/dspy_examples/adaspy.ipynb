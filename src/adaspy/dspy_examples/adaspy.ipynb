{
 "cells": [
  {
   "cell_type": "code",
   "execution_count": 2,
   "metadata": {},
   "outputs": [
    {
     "name": "stdout",
     "output_type": "stream",
     "text": [
      "['Hello! How can I assist you today?']\n"
     ]
    }
   ],
   "source": [
    "import dspy\n",
    "from dotenv import load_dotenv\n",
    "\n",
    "load_dotenv()\n",
    "\n",
    "mini = dspy.OpenAI(model = \"gpt-4o-mini\", max_tokens = 4000)\n",
    "print(mini(\"Say hello\"))"
   ]
  },
  {
   "cell_type": "code",
   "execution_count": 4,
   "metadata": {},
   "outputs": [],
   "source": [
    "dspy.settings.configure(lm = mini)"
   ]
  },
  {
   "cell_type": "code",
   "execution_count": 5,
   "metadata": {},
   "outputs": [],
   "source": [
    "class AgentDesigner(dspy.Signature):\n",
    "    \"\"\"Your task is to design Agents for the application domain in the provided Python framework.\"\"\"\n",
    "\n",
    "    application_domain = dspy.InputField()\n",
    "    agent_framework_description = dspy.InputField()\n",
    "    #discovered_agent_archive = dspy.InputField()\n",
    "    optimal_agent = dspy.OutputField(desc = \"IMPORTANT!! ONLY OUTPUT THE CODE FOR THE AGENT IN THE PROVIDED PYTHON FRAMEWORK!!\")"
   ]
  },
  {
   "cell_type": "code",
   "execution_count": 6,
   "metadata": {},
   "outputs": [],
   "source": [
    "agent_designer = dspy.ChainOfThought(AgentDesigner)"
   ]
  },
  {
   "cell_type": "code",
   "execution_count": 7,
   "metadata": {},
   "outputs": [],
   "source": [
    "dspy_framework_description = \"\"\"\n",
    "You will code the agent with the DSPy Python framework.\n",
    "\n",
    "Here is an example of defining a program that retrieves information from a knowledge source and then uses the context to answer a question.\n",
    "\n",
    "class Agent(dspy.Module):\n",
    "    def __init__(self, num_passages = 3):\n",
    "        super().__init__()\n",
    "        self.retrieve = dspy.Retrieve(k = num_passages)\n",
    "        self.generate_answer = dspy.ChainOfThought(\"context, question -> answer\")\n",
    "\n",
    "    def forward(self, question):\n",
    "        context = self.retrieve(question).passages\n",
    "        answer = self.generate_answer(context, question)\n",
    "\n",
    "        return answer\n",
    "\n",
    "Here is an example of a blog post writer Agent.\n",
    "\n",
    "class Agent(dspy.Module):\n",
    "    def __init__(self):\n",
    "        self.question_to_blog_outline = dspy.ChainOfThought(\"question -> blog_outline\")\n",
    "        self.topic_to_paragraph = dspy.ChainOfThought(\"topic, contexts -> paragraph\")\n",
    "        self.proof_reader = dspy.ChainOfThought(\"blog_post -> proof_read_blog_post\")\n",
    "        self.title_generator = dspy.ChainOfThought(\"blog_outline -> title\")\n",
    "\n",
    "    def forward(self, question):\n",
    "        contexts = dspy.Retrieve(k = 5)(question).passages\n",
    "        contexts = \"\".join(contexts)\n",
    "        raw_blog_outline = self.question_to_blog_outline(question = question, contexts = contexts).blog_outline\n",
    "        blog_outline = raw_blog_outline.split(',') #Add type hint in expanded Signature\n",
    "        blog = \"\"\n",
    "        for topic in blog_outline:\n",
    "            topic_contexts = dspy.Retrieve(k = 5)(topic).passages\n",
    "            topic_contexts = \"\".join(topic_contexts)\n",
    "            blog += self.topic_to_paragraph(topic = topic, contexts = topic_contexts).paragraph\n",
    "            blog += \"\\n\\n\"\n",
    "        blog = self.proof_reader(blog_post = blog).proof_read_blog_post\n",
    "        title = self.title_generator(blog_outline = raw_blog_outline).title\n",
    "        final_blog = f'{title} \\n\\n {blog}'\n",
    "        return dspy.Prediction(blog = final_blog)\n",
    "\n",
    "PLEASE NOTE!! It is extremely important that your Agent class is also named \"Agent\" as shown in the example!! THIS IS EXTREMELY IMPORTANT!!\n",
    "\"\"\"\n"
   ]
  },
  {
   "cell_type": "code",
   "execution_count": 8,
   "metadata": {},
   "outputs": [
    {
     "name": "stdout",
     "output_type": "stream",
     "text": [
      "```python\n",
      "class Agent(dspy.Module):\n",
      "    def __init__(self):\n",
      "        self.retrieve_papers = dspy.Retrieve(k=5)\n",
      "        self.synthesize_paper = dspy.ChainOfThought(\"context, research_direction -> scientific_paper\")\n",
      "        self.proof_reader = dspy.ChainOfThought(\"scientific_paper -> proof_read_scientific_paper\")\n",
      "        self.title_generator = dspy.ChainOfThought(\"research_direction, context -> title\")\n",
      "\n",
      "    def forward(self, research_direction):\n",
      "        contexts = self.retrieve_papers(research_direction).passages\n",
      "        contexts = \"\".join(contexts)\n",
      "        raw_scientific_paper = self.synthesize_paper(context=contexts, research_direction=research_direction).scientific_paper\n",
      "        proof_read_paper = self.proof_reader(scientific_paper=raw_scientific_paper).proof_read_scientific_paper\n",
      "        title = self.title_generator(research_direction=research_direction, context=contexts).title\n",
      "        final_paper = f'{title}\\n\\n{proof_read_paper}'\n",
      "        return dspy.Prediction(scientific_paper=final_paper)\n",
      "```\n"
     ]
    }
   ],
   "source": [
    "agent_design = agent_designer(\n",
    "    application_domain = \"Produce Scientific Papers given a repository and a research direction as an input.\",\n",
    "    agent_framework_description = dspy_framework_description\n",
    ").optimal_agent\n",
    "\n",
    "print(agent_design)"
   ]
  },
  {
   "cell_type": "code",
   "execution_count": 10,
   "metadata": {},
   "outputs": [
    {
     "name": "stdout",
     "output_type": "stream",
     "text": [
      "\n",
      "\n",
      "\n",
      "Your task is to design Agents for the application domain in the provided Python framework.\n",
      "\n",
      "---\n",
      "\n",
      "Follow the following format.\n",
      "\n",
      "Application Domain: ${application_domain}\n",
      "\n",
      "Agent Framework Description: ${agent_framework_description}\n",
      "\n",
      "Reasoning: Let's think step by step in order to ${produce the optimal_agent}. We ...\n",
      "\n",
      "Optimal Agent: IMPORTANT!! ONLY OUTPUT THE CODE FOR THE AGENT IN THE PROVIDED PYTHON FRAMEWORK!!\n",
      "\n",
      "---\n",
      "\n",
      "Application Domain: Produce Scientific Papers given a repository and a research direction as an input.\n",
      "\n",
      "Agent Framework Description: You will code the agent with the DSPy Python framework. Here is an example of defining a program that retrieves information from a knowledge source and then uses the context to answer a question. class Agent(dspy.Module): def __init__(self, num_passages = 3): super().__init__() self.retrieve = dspy.Retrieve(k = num_passages) self.generate_answer = dspy.ChainOfThought(\"context, question -> answer\") def forward(self, question): context = self.retrieve(question).passages answer = self.generate_answer(context, question) return answer Here is an example of a blog post writer Agent. class Agent(dspy.Module): def __init__(self): self.question_to_blog_outline = dspy.ChainOfThought(\"question -> blog_outline\") self.topic_to_paragraph = dspy.ChainOfThought(\"topic, contexts -> paragraph\") self.proof_reader = dspy.ChainOfThought(\"blog_post -> proof_read_blog_post\") self.title_generator = dspy.ChainOfThought(\"blog_outline -> title\") def forward(self, question): contexts = dspy.Retrieve(k = 5)(question).passages contexts = \"\".join(contexts) raw_blog_outline = self.question_to_blog_outline(question = question, contexts = contexts).blog_outline blog_outline = raw_blog_outline.split(',') #Add type hint in expanded Signature blog = \"\" for topic in blog_outline: topic_contexts = dspy.Retrieve(k = 5)(topic).passages topic_contexts = \"\".join(topic_contexts) blog += self.topic_to_paragraph(topic = topic, contexts = topic_contexts).paragraph blog += \" \" blog = self.proof_reader(blog_post = blog).proof_read_blog_post title = self.title_generator(blog_outline = raw_blog_outline).title final_blog = f'{title} {blog}' return dspy.Prediction(blog = final_blog) PLEASE NOTE!! It is extremely important that your Agent class is also named \"Agent\" as shown in the example!! THIS IS EXTREMELY IMPORTANT!!\n",
      "\n",
      "Reasoning: Let's think step by step in order to\u001b[32m produce the optimal_agent. We need to create an agent that can take a research direction and a repository of scientific papers as input, retrieve relevant papers, and then generate a scientific paper based on the retrieved information. The agent will consist of several components: a retrieval mechanism to gather relevant papers, a summarization or synthesis mechanism to create a coherent scientific paper, and possibly a proof-reading step to ensure the quality of the generated text.\n",
      "\n",
      "Optimal Agent:\n",
      "```python\n",
      "class Agent(dspy.Module):\n",
      "    def __init__(self):\n",
      "        self.retrieve_papers = dspy.Retrieve(k=5)\n",
      "        self.synthesize_paper = dspy.ChainOfThought(\"context, research_direction -> scientific_paper\")\n",
      "        self.proof_reader = dspy.ChainOfThought(\"scientific_paper -> proof_read_scientific_paper\")\n",
      "        self.title_generator = dspy.ChainOfThought(\"research_direction, context -> title\")\n",
      "\n",
      "    def forward(self, research_direction):\n",
      "        contexts = self.retrieve_papers(research_direction).passages\n",
      "        contexts = \"\".join(contexts)\n",
      "        raw_scientific_paper = self.synthesize_paper(context=contexts, research_direction=research_direction).scientific_paper\n",
      "        proof_read_paper = self.proof_reader(scientific_paper=raw_scientific_paper).proof_read_scientific_paper\n",
      "        title = self.title_generator(research_direction=research_direction, context=contexts).title\n",
      "        final_paper = f'{title}\\n\\n{proof_read_paper}'\n",
      "        return dspy.Prediction(scientific_paper=final_paper)\n",
      "```\u001b[0m\n",
      "\n",
      "\n",
      "\n"
     ]
    },
    {
     "data": {
      "text/plain": [
       "'\\n\\n\\nYour task is to design Agents for the application domain in the provided Python framework.\\n\\n---\\n\\nFollow the following format.\\n\\nApplication Domain: ${application_domain}\\n\\nAgent Framework Description: ${agent_framework_description}\\n\\nReasoning: Let\\'s think step by step in order to ${produce the optimal_agent}. We ...\\n\\nOptimal Agent: IMPORTANT!! ONLY OUTPUT THE CODE FOR THE AGENT IN THE PROVIDED PYTHON FRAMEWORK!!\\n\\n---\\n\\nApplication Domain: Produce Scientific Papers given a repository and a research direction as an input.\\n\\nAgent Framework Description: You will code the agent with the DSPy Python framework. Here is an example of defining a program that retrieves information from a knowledge source and then uses the context to answer a question. class Agent(dspy.Module): def __init__(self, num_passages = 3): super().__init__() self.retrieve = dspy.Retrieve(k = num_passages) self.generate_answer = dspy.ChainOfThought(\"context, question -> answer\") def forward(self, question): context = self.retrieve(question).passages answer = self.generate_answer(context, question) return answer Here is an example of a blog post writer Agent. class Agent(dspy.Module): def __init__(self): self.question_to_blog_outline = dspy.ChainOfThought(\"question -> blog_outline\") self.topic_to_paragraph = dspy.ChainOfThought(\"topic, contexts -> paragraph\") self.proof_reader = dspy.ChainOfThought(\"blog_post -> proof_read_blog_post\") self.title_generator = dspy.ChainOfThought(\"blog_outline -> title\") def forward(self, question): contexts = dspy.Retrieve(k = 5)(question).passages contexts = \"\".join(contexts) raw_blog_outline = self.question_to_blog_outline(question = question, contexts = contexts).blog_outline blog_outline = raw_blog_outline.split(\\',\\') #Add type hint in expanded Signature blog = \"\" for topic in blog_outline: topic_contexts = dspy.Retrieve(k = 5)(topic).passages topic_contexts = \"\".join(topic_contexts) blog += self.topic_to_paragraph(topic = topic, contexts = topic_contexts).paragraph blog += \" \" blog = self.proof_reader(blog_post = blog).proof_read_blog_post title = self.title_generator(blog_outline = raw_blog_outline).title final_blog = f\\'{title} {blog}\\' return dspy.Prediction(blog = final_blog) PLEASE NOTE!! It is extremely important that your Agent class is also named \"Agent\" as shown in the example!! THIS IS EXTREMELY IMPORTANT!!\\n\\nReasoning: Let\\'s think step by step in order to\\x1b[32m produce the optimal_agent. We need to create an agent that can take a research direction and a repository of scientific papers as input, retrieve relevant papers, and then generate a scientific paper based on the retrieved information. The agent will consist of several components: a retrieval mechanism to gather relevant papers, a summarization or synthesis mechanism to create a coherent scientific paper, and possibly a proof-reading step to ensure the quality of the generated text.\\n\\nOptimal Agent:\\n```python\\nclass Agent(dspy.Module):\\n    def __init__(self):\\n        self.retrieve_papers = dspy.Retrieve(k=5)\\n        self.synthesize_paper = dspy.ChainOfThought(\"context, research_direction -> scientific_paper\")\\n        self.proof_reader = dspy.ChainOfThought(\"scientific_paper -> proof_read_scientific_paper\")\\n        self.title_generator = dspy.ChainOfThought(\"research_direction, context -> title\")\\n\\n    def forward(self, research_direction):\\n        contexts = self.retrieve_papers(research_direction).passages\\n        contexts = \"\".join(contexts)\\n        raw_scientific_paper = self.synthesize_paper(context=contexts, research_direction=research_direction).scientific_paper\\n        proof_read_paper = self.proof_reader(scientific_paper=raw_scientific_paper).proof_read_scientific_paper\\n        title = self.title_generator(research_direction=research_direction, context=contexts).title\\n        final_paper = f\\'{title}\\\\n\\\\n{proof_read_paper}\\'\\n        return dspy.Prediction(scientific_paper=final_paper)\\n```\\x1b[0m\\n\\n\\n'"
      ]
     },
     "execution_count": 10,
     "metadata": {},
     "output_type": "execute_result"
    }
   ],
   "source": [
    "mini.inspect_history(n=1)"
   ]
  },
  {
   "cell_type": "code",
   "execution_count": 11,
   "metadata": {},
   "outputs": [
    {
     "name": "stdout",
     "output_type": "stream",
     "text": [
      "```python\n",
      "class Agent(dspy.Module):\n",
      "    def __init__(self):\n",
      "        self.retrieve_info = dspy.Retrieve(k=5)\n",
      "        self.itinerary_generator = dspy.ChainOfThought(\"destination, duration, contexts -> itinerary\")\n",
      "        self.formatter = dspy.ChainOfThought(\"itinerary -> formatted_itinerary\")\n",
      "\n",
      "    def forward(self, destination, duration):\n",
      "        contexts = self.retrieve_info(destination).passages\n",
      "        itinerary = self.itinerary_generator(destination=destination, duration=duration, contexts=contexts).itinerary\n",
      "        formatted_itinerary = self.formatter(itinerary=itinerary).formatted_itinerary\n",
      "        return dspy.Prediction(itinerary=formatted_itinerary)\n",
      "```\n"
     ]
    }
   ],
   "source": [
    "agent_design = agent_designer(\n",
    "    application_domain=\"Create a comprehensive travel itinerary given a destination and duration of stay.\",\n",
    "    agent_framework_description=dspy_framework_description\n",
    ").optimal_agent\n",
    "\n",
    "print(agent_design)"
   ]
  },
  {
   "cell_type": "code",
   "execution_count": 12,
   "metadata": {},
   "outputs": [
    {
     "name": "stdout",
     "output_type": "stream",
     "text": [
      "\n",
      "\n",
      "\n",
      "Your task is to design Agents for the application domain in the provided Python framework.\n",
      "\n",
      "---\n",
      "\n",
      "Follow the following format.\n",
      "\n",
      "Application Domain: ${application_domain}\n",
      "\n",
      "Agent Framework Description: ${agent_framework_description}\n",
      "\n",
      "Reasoning: Let's think step by step in order to ${produce the optimal_agent}. We ...\n",
      "\n",
      "Optimal Agent: IMPORTANT!! ONLY OUTPUT THE CODE FOR THE AGENT IN THE PROVIDED PYTHON FRAMEWORK!!\n",
      "\n",
      "---\n",
      "\n",
      "Application Domain: Create a comprehensive travel itinerary given a destination and duration of stay.\n",
      "\n",
      "Agent Framework Description: You will code the agent with the DSPy Python framework. Here is an example of defining a program that retrieves information from a knowledge source and then uses the context to answer a question. class Agent(dspy.Module): def __init__(self, num_passages = 3): super().__init__() self.retrieve = dspy.Retrieve(k = num_passages) self.generate_answer = dspy.ChainOfThought(\"context, question -> answer\") def forward(self, question): context = self.retrieve(question).passages answer = self.generate_answer(context, question) return answer Here is an example of a blog post writer Agent. class Agent(dspy.Module): def __init__(self): self.question_to_blog_outline = dspy.ChainOfThought(\"question -> blog_outline\") self.topic_to_paragraph = dspy.ChainOfThought(\"topic, contexts -> paragraph\") self.proof_reader = dspy.ChainOfThought(\"blog_post -> proof_read_blog_post\") self.title_generator = dspy.ChainOfThought(\"blog_outline -> title\") def forward(self, question): contexts = dspy.Retrieve(k = 5)(question).passages contexts = \"\".join(contexts) raw_blog_outline = self.question_to_blog_outline(question = question, contexts = contexts).blog_outline blog_outline = raw_blog_outline.split(',') #Add type hint in expanded Signature blog = \"\" for topic in blog_outline: topic_contexts = dspy.Retrieve(k = 5)(topic).passages topic_contexts = \"\".join(topic_contexts) blog += self.topic_to_paragraph(topic = topic, contexts = topic_contexts).paragraph blog += \" \" blog = self.proof_reader(blog_post = blog).proof_read_blog_post title = self.title_generator(blog_outline = raw_blog_outline).title final_blog = f'{title} {blog}' return dspy.Prediction(blog = final_blog) PLEASE NOTE!! It is extremely important that your Agent class is also named \"Agent\" as shown in the example!! THIS IS EXTREMELY IMPORTANT!!\n",
      "\n",
      "Reasoning: Let's think step by step in order to\u001b[32m produce the optimal_agent. We need to create an agent that can generate a comprehensive travel itinerary based on a given destination and duration of stay. The agent will need to retrieve relevant information about the destination, including attractions, accommodations, and activities. It will then organize this information into a structured itinerary format. \n",
      "\n",
      "To achieve this, we will define several components within the agent:\n",
      "1. **Information Retrieval**: We will retrieve information about the destination using a knowledge source.\n",
      "2. **Itinerary Generation**: We will create a structured itinerary based on the retrieved information and the specified duration of stay.\n",
      "3. **Formatting**: We will ensure the final output is well-formatted and easy to read.\n",
      "\n",
      "The agent will consist of methods to handle these tasks, and we will use the `dspy` framework to facilitate the retrieval and processing of information.\n",
      "\n",
      "Optimal Agent:\n",
      "```python\n",
      "class Agent(dspy.Module):\n",
      "    def __init__(self):\n",
      "        self.retrieve_info = dspy.Retrieve(k=5)\n",
      "        self.itinerary_generator = dspy.ChainOfThought(\"destination, duration, contexts -> itinerary\")\n",
      "        self.formatter = dspy.ChainOfThought(\"itinerary -> formatted_itinerary\")\n",
      "\n",
      "    def forward(self, destination, duration):\n",
      "        contexts = self.retrieve_info(destination).passages\n",
      "        itinerary = self.itinerary_generator(destination=destination, duration=duration, contexts=contexts).itinerary\n",
      "        formatted_itinerary = self.formatter(itinerary=itinerary).formatted_itinerary\n",
      "        return dspy.Prediction(itinerary=formatted_itinerary)\n",
      "```\u001b[0m\n",
      "\n",
      "\n",
      "\n"
     ]
    },
    {
     "data": {
      "text/plain": [
       "'\\n\\n\\nYour task is to design Agents for the application domain in the provided Python framework.\\n\\n---\\n\\nFollow the following format.\\n\\nApplication Domain: ${application_domain}\\n\\nAgent Framework Description: ${agent_framework_description}\\n\\nReasoning: Let\\'s think step by step in order to ${produce the optimal_agent}. We ...\\n\\nOptimal Agent: IMPORTANT!! ONLY OUTPUT THE CODE FOR THE AGENT IN THE PROVIDED PYTHON FRAMEWORK!!\\n\\n---\\n\\nApplication Domain: Create a comprehensive travel itinerary given a destination and duration of stay.\\n\\nAgent Framework Description: You will code the agent with the DSPy Python framework. Here is an example of defining a program that retrieves information from a knowledge source and then uses the context to answer a question. class Agent(dspy.Module): def __init__(self, num_passages = 3): super().__init__() self.retrieve = dspy.Retrieve(k = num_passages) self.generate_answer = dspy.ChainOfThought(\"context, question -> answer\") def forward(self, question): context = self.retrieve(question).passages answer = self.generate_answer(context, question) return answer Here is an example of a blog post writer Agent. class Agent(dspy.Module): def __init__(self): self.question_to_blog_outline = dspy.ChainOfThought(\"question -> blog_outline\") self.topic_to_paragraph = dspy.ChainOfThought(\"topic, contexts -> paragraph\") self.proof_reader = dspy.ChainOfThought(\"blog_post -> proof_read_blog_post\") self.title_generator = dspy.ChainOfThought(\"blog_outline -> title\") def forward(self, question): contexts = dspy.Retrieve(k = 5)(question).passages contexts = \"\".join(contexts) raw_blog_outline = self.question_to_blog_outline(question = question, contexts = contexts).blog_outline blog_outline = raw_blog_outline.split(\\',\\') #Add type hint in expanded Signature blog = \"\" for topic in blog_outline: topic_contexts = dspy.Retrieve(k = 5)(topic).passages topic_contexts = \"\".join(topic_contexts) blog += self.topic_to_paragraph(topic = topic, contexts = topic_contexts).paragraph blog += \" \" blog = self.proof_reader(blog_post = blog).proof_read_blog_post title = self.title_generator(blog_outline = raw_blog_outline).title final_blog = f\\'{title} {blog}\\' return dspy.Prediction(blog = final_blog) PLEASE NOTE!! It is extremely important that your Agent class is also named \"Agent\" as shown in the example!! THIS IS EXTREMELY IMPORTANT!!\\n\\nReasoning: Let\\'s think step by step in order to\\x1b[32m produce the optimal_agent. We need to create an agent that can generate a comprehensive travel itinerary based on a given destination and duration of stay. The agent will need to retrieve relevant information about the destination, including attractions, accommodations, and activities. It will then organize this information into a structured itinerary format. \\n\\nTo achieve this, we will define several components within the agent:\\n1. **Information Retrieval**: We will retrieve information about the destination using a knowledge source.\\n2. **Itinerary Generation**: We will create a structured itinerary based on the retrieved information and the specified duration of stay.\\n3. **Formatting**: We will ensure the final output is well-formatted and easy to read.\\n\\nThe agent will consist of methods to handle these tasks, and we will use the `dspy` framework to facilitate the retrieval and processing of information.\\n\\nOptimal Agent:\\n```python\\nclass Agent(dspy.Module):\\n    def __init__(self):\\n        self.retrieve_info = dspy.Retrieve(k=5)\\n        self.itinerary_generator = dspy.ChainOfThought(\"destination, duration, contexts -> itinerary\")\\n        self.formatter = dspy.ChainOfThought(\"itinerary -> formatted_itinerary\")\\n\\n    def forward(self, destination, duration):\\n        contexts = self.retrieve_info(destination).passages\\n        itinerary = self.itinerary_generator(destination=destination, duration=duration, contexts=contexts).itinerary\\n        formatted_itinerary = self.formatter(itinerary=itinerary).formatted_itinerary\\n        return dspy.Prediction(itinerary=formatted_itinerary)\\n```\\x1b[0m\\n\\n\\n'"
      ]
     },
     "execution_count": 12,
     "metadata": {},
     "output_type": "execute_result"
    }
   ],
   "source": [
    "mini.inspect_history(n=1)"
   ]
  },
  {
   "cell_type": "code",
   "execution_count": null,
   "metadata": {},
   "outputs": [],
   "source": []
  }
 ],
 "metadata": {
  "kernelspec": {
   "display_name": ".venv",
   "language": "python",
   "name": "python3"
  },
  "language_info": {
   "codemirror_mode": {
    "name": "ipython",
    "version": 3
   },
   "file_extension": ".py",
   "mimetype": "text/x-python",
   "name": "python",
   "nbconvert_exporter": "python",
   "pygments_lexer": "ipython3",
   "version": "3.12.5"
  }
 },
 "nbformat": 4,
 "nbformat_minor": 2
}
